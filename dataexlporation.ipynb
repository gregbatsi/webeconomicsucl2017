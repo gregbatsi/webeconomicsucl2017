{
 "cells": [
  {
   "cell_type": "markdown",
   "metadata": {},
   "source": [
    "### Importing Libraries"
   ]
  },
  {
   "cell_type": "code",
   "execution_count": 2,
   "metadata": {
    "collapsed": true
   },
   "outputs": [],
   "source": [
    "import numpy as np\n",
    "import pandas as pd\n",
    "import random\n",
    "import csv\n",
    "from collections import defaultdict\n",
    "import math\n",
    "from sklearn.linear_model import LogisticRegression\n",
    "from sklearn.feature_extraction import DictVectorizer\n",
    "from sklearn.preprocessing import LabelEncoder\n",
    "from sklearn.preprocessing import StandardScaler\n",
    "from sklearn.metrics import accuracy_score\n",
    "from sklearn.model_selection import train_test_split\n",
    "from sklearn import preprocessing\n",
    "from random import randint\n",
    "\n",
    "import matplotlib.pyplot as plt\n",
    "%matplotlib inline\n",
    "import statsmodels.api as sm\n",
    "from statsmodels.nonparametric.kde import KDEUnivariate\n",
    "from statsmodels.nonparametric import smoothers_lowess\n",
    "from pandas import Series, DataFrame\n",
    "from patsy import dmatrices\n",
    "from sklearn import datasets, svm\n",
    "\n",
    "#import pylab as plt\n",
    "\n",
    "# Set the global default size of matplotlib figures\n",
    "plt.rc('figure', figsize=(10, 5))\n",
    "\n",
    "# Size of matplotlib figures that contain subplots\n",
    "fizsize_with_subplots = (10, 10)\n",
    "\n",
    "# Size of matplotlib histogram bins\n",
    "bin_size = 10\n",
    "    "
   ]
  },
  {
   "cell_type": "markdown",
   "metadata": {},
   "source": [
    "# Data Exploration"
   ]
  },
  {
   "cell_type": "code",
   "execution_count": 3,
   "metadata": {
    "collapsed": false
   },
   "outputs": [
    {
     "data": {
      "text/html": [
       "<div>\n",
       "<table border=\"1\" class=\"dataframe\">\n",
       "  <thead>\n",
       "    <tr style=\"text-align: right;\">\n",
       "      <th></th>\n",
       "      <th>click</th>\n",
       "      <th>weekday</th>\n",
       "      <th>hour</th>\n",
       "      <th>bidid</th>\n",
       "      <th>logtype</th>\n",
       "      <th>userid</th>\n",
       "      <th>useragent</th>\n",
       "      <th>IP</th>\n",
       "      <th>region</th>\n",
       "      <th>city</th>\n",
       "      <th>...</th>\n",
       "      <th>slotheight</th>\n",
       "      <th>slotvisibility</th>\n",
       "      <th>slotformat</th>\n",
       "      <th>slotprice</th>\n",
       "      <th>creative</th>\n",
       "      <th>bidprice</th>\n",
       "      <th>payprice</th>\n",
       "      <th>keypage</th>\n",
       "      <th>advertiser</th>\n",
       "      <th>usertag</th>\n",
       "    </tr>\n",
       "  </thead>\n",
       "  <tbody>\n",
       "    <tr>\n",
       "      <th>0</th>\n",
       "      <td>0</td>\n",
       "      <td>1</td>\n",
       "      <td>14</td>\n",
       "      <td>fdfae6789b787899f1b875de3ab8b21a</td>\n",
       "      <td>1</td>\n",
       "      <td>u_Vh1OPkFv3q5CFdR</td>\n",
       "      <td>windows_ie</td>\n",
       "      <td>180.107.112.*</td>\n",
       "      <td>80</td>\n",
       "      <td>85</td>\n",
       "      <td>...</td>\n",
       "      <td>60</td>\n",
       "      <td>1</td>\n",
       "      <td>0</td>\n",
       "      <td>5</td>\n",
       "      <td>612599432d200b093719dd1f372f7a30</td>\n",
       "      <td>300</td>\n",
       "      <td>54</td>\n",
       "      <td>bebefa5efe83beee17a3d245e7c5085b</td>\n",
       "      <td>1458</td>\n",
       "      <td>13866,10063</td>\n",
       "    </tr>\n",
       "    <tr>\n",
       "      <th>1</th>\n",
       "      <td>0</td>\n",
       "      <td>2</td>\n",
       "      <td>20</td>\n",
       "      <td>372883147cdefbc495fb5082f79dde9b</td>\n",
       "      <td>1</td>\n",
       "      <td>u_VhkRL6dCOTLsq-c</td>\n",
       "      <td>windows_chrome</td>\n",
       "      <td>125.120.199.*</td>\n",
       "      <td>94</td>\n",
       "      <td>95</td>\n",
       "      <td>...</td>\n",
       "      <td>250</td>\n",
       "      <td>1</td>\n",
       "      <td>0</td>\n",
       "      <td>5</td>\n",
       "      <td>8dff45ed862a740986dbe688aafee7e5</td>\n",
       "      <td>249</td>\n",
       "      <td>42</td>\n",
       "      <td>15b749127478946f161a54dc0dad27c8</td>\n",
       "      <td>3476</td>\n",
       "      <td>10063,10111</td>\n",
       "    </tr>\n",
       "    <tr>\n",
       "      <th>2</th>\n",
       "      <td>0</td>\n",
       "      <td>5</td>\n",
       "      <td>9</td>\n",
       "      <td>2912cb5947e1fad450e2473c2f61ef75</td>\n",
       "      <td>1</td>\n",
       "      <td>u_VhkyORMrD8TP3GL</td>\n",
       "      <td>windows_ie</td>\n",
       "      <td>120.196.64.*</td>\n",
       "      <td>216</td>\n",
       "      <td>217</td>\n",
       "      <td>...</td>\n",
       "      <td>280</td>\n",
       "      <td>0</td>\n",
       "      <td>1</td>\n",
       "      <td>0</td>\n",
       "      <td>77819d3e0b3467fe5c7b16d68ad923a1</td>\n",
       "      <td>300</td>\n",
       "      <td>76</td>\n",
       "      <td>bebefa5efe83beee17a3d245e7c5085b</td>\n",
       "      <td>1458</td>\n",
       "      <td>10063</td>\n",
       "    </tr>\n",
       "    <tr>\n",
       "      <th>3</th>\n",
       "      <td>0</td>\n",
       "      <td>2</td>\n",
       "      <td>20</td>\n",
       "      <td>d7b7d61d1e50e1d27d210928d28a9b61</td>\n",
       "      <td>1</td>\n",
       "      <td>u_VhkyLRqVL2a4eWL</td>\n",
       "      <td>windows_ie</td>\n",
       "      <td>219.131.122.*</td>\n",
       "      <td>216</td>\n",
       "      <td>221</td>\n",
       "      <td>...</td>\n",
       "      <td>90</td>\n",
       "      <td>0</td>\n",
       "      <td>0</td>\n",
       "      <td>162</td>\n",
       "      <td>7184c9560e68e977187e67e45a4f3198</td>\n",
       "      <td>238</td>\n",
       "      <td>182</td>\n",
       "      <td>0f951a030abdaedd733ee8d114ce2944</td>\n",
       "      <td>3427</td>\n",
       "      <td>10077,10111</td>\n",
       "    </tr>\n",
       "    <tr>\n",
       "      <th>4</th>\n",
       "      <td>0</td>\n",
       "      <td>6</td>\n",
       "      <td>9</td>\n",
       "      <td>657d317dc4045bb79c2652abbea07530</td>\n",
       "      <td>1</td>\n",
       "      <td>u_Vh1zOJuQOtTCBgL</td>\n",
       "      <td>windows_chrome</td>\n",
       "      <td>123.190.78.*</td>\n",
       "      <td>40</td>\n",
       "      <td>48</td>\n",
       "      <td>...</td>\n",
       "      <td>90</td>\n",
       "      <td>0</td>\n",
       "      <td>1</td>\n",
       "      <td>0</td>\n",
       "      <td>c938195f9e404b4f38c7e71bf50263e5</td>\n",
       "      <td>238</td>\n",
       "      <td>34</td>\n",
       "      <td>a3becb967c015e9acb5e72f22b100ef8</td>\n",
       "      <td>3476</td>\n",
       "      <td>10031,13042,10006,10057,13866,10063,14273,1005...</td>\n",
       "    </tr>\n",
       "  </tbody>\n",
       "</table>\n",
       "<p>5 rows × 26 columns</p>\n",
       "</div>"
      ],
      "text/plain": [
       "  click weekday hour                             bidid logtype  \\\n",
       "0     0       1   14  fdfae6789b787899f1b875de3ab8b21a       1   \n",
       "1     0       2   20  372883147cdefbc495fb5082f79dde9b       1   \n",
       "2     0       5    9  2912cb5947e1fad450e2473c2f61ef75       1   \n",
       "3     0       2   20  d7b7d61d1e50e1d27d210928d28a9b61       1   \n",
       "4     0       6    9  657d317dc4045bb79c2652abbea07530       1   \n",
       "\n",
       "              userid       useragent             IP region city  \\\n",
       "0  u_Vh1OPkFv3q5CFdR      windows_ie  180.107.112.*     80   85   \n",
       "1  u_VhkRL6dCOTLsq-c  windows_chrome  125.120.199.*     94   95   \n",
       "2  u_VhkyORMrD8TP3GL      windows_ie   120.196.64.*    216  217   \n",
       "3  u_VhkyLRqVL2a4eWL      windows_ie  219.131.122.*    216  221   \n",
       "4  u_Vh1zOJuQOtTCBgL  windows_chrome   123.190.78.*     40   48   \n",
       "\n",
       "                         ...                         slotheight  \\\n",
       "0                        ...                                 60   \n",
       "1                        ...                                250   \n",
       "2                        ...                                280   \n",
       "3                        ...                                 90   \n",
       "4                        ...                                 90   \n",
       "\n",
       "  slotvisibility slotformat slotprice                          creative  \\\n",
       "0              1          0         5  612599432d200b093719dd1f372f7a30   \n",
       "1              1          0         5  8dff45ed862a740986dbe688aafee7e5   \n",
       "2              0          1         0  77819d3e0b3467fe5c7b16d68ad923a1   \n",
       "3              0          0       162  7184c9560e68e977187e67e45a4f3198   \n",
       "4              0          1         0  c938195f9e404b4f38c7e71bf50263e5   \n",
       "\n",
       "  bidprice payprice                           keypage advertiser  \\\n",
       "0      300       54  bebefa5efe83beee17a3d245e7c5085b       1458   \n",
       "1      249       42  15b749127478946f161a54dc0dad27c8       3476   \n",
       "2      300       76  bebefa5efe83beee17a3d245e7c5085b       1458   \n",
       "3      238      182  0f951a030abdaedd733ee8d114ce2944       3427   \n",
       "4      238       34  a3becb967c015e9acb5e72f22b100ef8       3476   \n",
       "\n",
       "                                             usertag  \n",
       "0                                        13866,10063  \n",
       "1                                        10063,10111  \n",
       "2                                              10063  \n",
       "3                                        10077,10111  \n",
       "4  10031,13042,10006,10057,13866,10063,14273,1005...  \n",
       "\n",
       "[5 rows x 26 columns]"
      ]
     },
     "execution_count": 3,
     "metadata": {},
     "output_type": "execute_result"
    }
   ],
   "source": [
    "input_file1 = \"dataset/train.csv\"\n",
    "input_file2 = \"dataset/validation.csv\"\n",
    "input_file3 = \"dataset/test.csv\"\n",
    "\n",
    "## comma delimited is the default, set data type to unicode\n",
    "train_df = pd.read_csv(input_file1, dtype=\"unicode\")\n",
    "val_df = pd.read_csv(input_file2, dtype=\"unicode\")\n",
    "test_df = pd.read_csv(input_file3, dtype=\"unicode\")\n",
    "\n",
    "train_df.head(5)\n"
   ]
  },
  {
   "cell_type": "code",
   "execution_count": 4,
   "metadata": {
    "collapsed": false
   },
   "outputs": [
    {
     "data": {
      "text/html": [
       "<div>\n",
       "<table border=\"1\" class=\"dataframe\">\n",
       "  <thead>\n",
       "    <tr style=\"text-align: right;\">\n",
       "      <th></th>\n",
       "      <th>click</th>\n",
       "      <th>weekday</th>\n",
       "      <th>hour</th>\n",
       "      <th>bidid</th>\n",
       "      <th>logtype</th>\n",
       "      <th>userid</th>\n",
       "      <th>useragent</th>\n",
       "      <th>IP</th>\n",
       "      <th>region</th>\n",
       "      <th>city</th>\n",
       "      <th>...</th>\n",
       "      <th>slotheight</th>\n",
       "      <th>slotvisibility</th>\n",
       "      <th>slotformat</th>\n",
       "      <th>slotprice</th>\n",
       "      <th>creative</th>\n",
       "      <th>bidprice</th>\n",
       "      <th>payprice</th>\n",
       "      <th>keypage</th>\n",
       "      <th>advertiser</th>\n",
       "      <th>usertag</th>\n",
       "    </tr>\n",
       "  </thead>\n",
       "  <tbody>\n",
       "    <tr>\n",
       "      <th>count</th>\n",
       "      <td>2697738</td>\n",
       "      <td>2697738</td>\n",
       "      <td>2697738</td>\n",
       "      <td>2697738</td>\n",
       "      <td>2697738</td>\n",
       "      <td>2697738</td>\n",
       "      <td>2697738</td>\n",
       "      <td>2697738</td>\n",
       "      <td>2697738</td>\n",
       "      <td>2697738</td>\n",
       "      <td>...</td>\n",
       "      <td>2697738</td>\n",
       "      <td>2697738</td>\n",
       "      <td>2697738</td>\n",
       "      <td>2697738</td>\n",
       "      <td>2697738</td>\n",
       "      <td>2697738</td>\n",
       "      <td>2697738</td>\n",
       "      <td>2697738</td>\n",
       "      <td>2697738</td>\n",
       "      <td>2697738</td>\n",
       "    </tr>\n",
       "    <tr>\n",
       "      <th>unique</th>\n",
       "      <td>2</td>\n",
       "      <td>7</td>\n",
       "      <td>24</td>\n",
       "      <td>2697738</td>\n",
       "      <td>1</td>\n",
       "      <td>2591064</td>\n",
       "      <td>39</td>\n",
       "      <td>515530</td>\n",
       "      <td>35</td>\n",
       "      <td>370</td>\n",
       "      <td>...</td>\n",
       "      <td>14</td>\n",
       "      <td>11</td>\n",
       "      <td>4</td>\n",
       "      <td>284</td>\n",
       "      <td>130</td>\n",
       "      <td>8</td>\n",
       "      <td>301</td>\n",
       "      <td>19</td>\n",
       "      <td>9</td>\n",
       "      <td>814364</td>\n",
       "    </tr>\n",
       "    <tr>\n",
       "      <th>top</th>\n",
       "      <td>0</td>\n",
       "      <td>0</td>\n",
       "      <td>0</td>\n",
       "      <td>14b8bbe120d6d9e0a64a77ef79672647</td>\n",
       "      <td>1</td>\n",
       "      <td>u_Z0TpZkKyPHdUQmL</td>\n",
       "      <td>windows_ie</td>\n",
       "      <td>113.106.102.*</td>\n",
       "      <td>216</td>\n",
       "      <td>219</td>\n",
       "      <td>...</td>\n",
       "      <td>90</td>\n",
       "      <td>0</td>\n",
       "      <td>0</td>\n",
       "      <td>0</td>\n",
       "      <td>44966cc8da1ed40c95d59e863c8c75f0</td>\n",
       "      <td>300</td>\n",
       "      <td>70</td>\n",
       "      <td>null</td>\n",
       "      <td>1458</td>\n",
       "      <td>null</td>\n",
       "    </tr>\n",
       "    <tr>\n",
       "      <th>freq</th>\n",
       "      <td>2695704</td>\n",
       "      <td>465241</td>\n",
       "      <td>202239</td>\n",
       "      <td>1</td>\n",
       "      <td>2697738</td>\n",
       "      <td>13</td>\n",
       "      <td>1619634</td>\n",
       "      <td>3731</td>\n",
       "      <td>451642</td>\n",
       "      <td>120875</td>\n",
       "      <td>...</td>\n",
       "      <td>1260243</td>\n",
       "      <td>1116187</td>\n",
       "      <td>1464916</td>\n",
       "      <td>867735</td>\n",
       "      <td>162572</td>\n",
       "      <td>1038847</td>\n",
       "      <td>155575</td>\n",
       "      <td>553300</td>\n",
       "      <td>540293</td>\n",
       "      <td>553251</td>\n",
       "    </tr>\n",
       "  </tbody>\n",
       "</table>\n",
       "<p>4 rows × 26 columns</p>\n",
       "</div>"
      ],
      "text/plain": [
       "          click  weekday     hour                             bidid  logtype  \\\n",
       "count   2697738  2697738  2697738                           2697738  2697738   \n",
       "unique        2        7       24                           2697738        1   \n",
       "top           0        0        0  14b8bbe120d6d9e0a64a77ef79672647        1   \n",
       "freq    2695704   465241   202239                                 1  2697738   \n",
       "\n",
       "                   userid   useragent             IP   region     city  \\\n",
       "count             2697738     2697738        2697738  2697738  2697738   \n",
       "unique            2591064          39         515530       35      370   \n",
       "top     u_Z0TpZkKyPHdUQmL  windows_ie  113.106.102.*      216      219   \n",
       "freq                   13     1619634           3731   451642   120875   \n",
       "\n",
       "         ...    slotheight slotvisibility slotformat slotprice  \\\n",
       "count    ...       2697738        2697738    2697738   2697738   \n",
       "unique   ...            14             11          4       284   \n",
       "top      ...            90              0          0         0   \n",
       "freq     ...       1260243        1116187    1464916    867735   \n",
       "\n",
       "                                creative bidprice payprice  keypage  \\\n",
       "count                            2697738  2697738  2697738  2697738   \n",
       "unique                               130        8      301       19   \n",
       "top     44966cc8da1ed40c95d59e863c8c75f0      300       70     null   \n",
       "freq                              162572  1038847   155575   553300   \n",
       "\n",
       "       advertiser  usertag  \n",
       "count     2697738  2697738  \n",
       "unique          9   814364  \n",
       "top          1458     null  \n",
       "freq       540293   553251  \n",
       "\n",
       "[4 rows x 26 columns]"
      ]
     },
     "execution_count": 4,
     "metadata": {},
     "output_type": "execute_result"
    }
   ],
   "source": [
    "train_df.describe()"
   ]
  },
  {
   "cell_type": "code",
   "execution_count": 5,
   "metadata": {
    "collapsed": false
   },
   "outputs": [
    {
     "data": {
      "text/plain": [
       "2697738"
      ]
     },
     "execution_count": 5,
     "metadata": {},
     "output_type": "execute_result"
    }
   ],
   "source": [
    "#num of impressions in train dataset\n",
    "impressionsTr = train_df['click'].count()\n",
    "impressionsTr"
   ]
  },
  {
   "cell_type": "code",
   "execution_count": 6,
   "metadata": {
    "collapsed": false
   },
   "outputs": [
    {
     "data": {
      "text/plain": [
       "299749"
      ]
     },
     "execution_count": 6,
     "metadata": {},
     "output_type": "execute_result"
    }
   ],
   "source": [
    "#num of impressions in validation dataset\n",
    "impressionsVal=val_df['click'].count()\n",
    "impressionsVal"
   ]
  },
  {
   "cell_type": "code",
   "execution_count": 7,
   "metadata": {
    "collapsed": false
   },
   "outputs": [
    {
     "data": {
      "text/plain": [
       "299749"
      ]
     },
     "execution_count": 7,
     "metadata": {},
     "output_type": "execute_result"
    }
   ],
   "source": [
    "#num of impressions in testing dataset\n",
    "impressionsT=test_df['bidid'].count()\n",
    "impressionsT"
   ]
  },
  {
   "cell_type": "code",
   "execution_count": 8,
   "metadata": {
    "collapsed": false
   },
   "outputs": [
    {
     "name": "stdout",
     "output_type": "stream",
     "text": [
      "2034\n"
     ]
    }
   ],
   "source": [
    "count=0\n",
    "total_spend=0\n",
    "for index, row in train_df.iterrows():\n",
    "    click = row['click']\n",
    "    total_spend+=row['payprice']\n",
    "    if int(click)==1:\n",
    "        count+=1\n",
    "\n",
    "print(count)"
   ]
  },
  {
   "cell_type": "code",
   "execution_count": 9,
   "metadata": {
    "collapsed": false
   },
   "outputs": [
    {
     "name": "stdout",
     "output_type": "stream",
     "text": [
      "226\n"
     ]
    }
   ],
   "source": [
    "countv = 0\n",
    "for index, row in val_df.iterrows():\n",
    "    click = row['click']\n",
    "    if int(click)==1:\n",
    "        countv+=1\n",
    "\n",
    "print(countv)"
   ]
  },
  {
   "cell_type": "code",
   "execution_count": 12,
   "metadata": {
    "collapsed": false
   },
   "outputs": [
    {
     "data": {
      "text/plain": [
       "0.075396498844587587"
      ]
     },
     "execution_count": 12,
     "metadata": {},
     "output_type": "execute_result"
    }
   ],
   "source": [
    "#CTR for training dataset\n",
    "CTR = (count/impressionsTr)*100\n",
    "CTR"
   ]
  },
  {
   "cell_type": "code",
   "execution_count": 13,
   "metadata": {
    "collapsed": false
   },
   "outputs": [
    {
     "data": {
      "text/plain": [
       "0.075396415000550457"
      ]
     },
     "execution_count": 13,
     "metadata": {},
     "output_type": "execute_result"
    }
   ],
   "source": [
    "#CTR for validation dataset\n",
    "CTRV = (countv/impressionsVal)*100\n",
    "CTRV"
   ]
  },
  {
   "cell_type": "code",
   "execution_count": 16,
   "metadata": {
    "collapsed": false
   },
   "outputs": [
    {
     "data": {
      "text/plain": [
       "80251.024747399482"
      ]
     },
     "execution_count": 16,
     "metadata": {},
     "output_type": "execute_result"
    }
   ],
   "source": [
    "#eCPM for training dataset\n",
    "total_spend=0\n",
    "for index, row in train_df.iterrows():\n",
    "    total_spend+=int(row['payprice'])\n",
    "eCPM = (total_spend/impressionsTr)*1000\n",
    "eCPM"
   ]
  },
  {
   "cell_type": "code",
   "execution_count": 17,
   "metadata": {
    "collapsed": false
   },
   "outputs": [
    {
     "data": {
      "text/plain": [
       "80217.842261358674"
      ]
     },
     "execution_count": 17,
     "metadata": {},
     "output_type": "execute_result"
    }
   ],
   "source": [
    "#eCPM for validation dataset\n",
    "total_spendval=0\n",
    "for index, row in val_df.iterrows():\n",
    "    total_spendval+=int(row['payprice'])\n",
    "eCPM_Val = (total_spendval/impressionsVal)*1000\n",
    "eCPM_Val"
   ]
  },
  {
   "cell_type": "code",
   "execution_count": 21,
   "metadata": {
    "collapsed": false
   },
   "outputs": [
    {
     "data": {
      "text/plain": [
       "0.039454781095083324"
      ]
     },
     "execution_count": 21,
     "metadata": {},
     "output_type": "execute_result"
    }
   ],
   "source": [
    "#avgCPC\n",
    "total_spend=0\n",
    "for index, row in train_df.iterrows():\n",
    "    total_spend+=int(row['payprice'])\n",
    "avg_total_spend = total_spend/impressionsTr\n",
    "avgCPC = avg_total_spend/count\n",
    "avgCPC"
   ]
  },
  {
   "cell_type": "code",
   "execution_count": 22,
   "metadata": {
    "collapsed": false
   },
   "outputs": [
    {
     "data": {
      "text/plain": [
       "0.3549462046962773"
      ]
     },
     "execution_count": 22,
     "metadata": {},
     "output_type": "execute_result"
    }
   ],
   "source": [
    "#avgCPC for validation set\n",
    "total_spend_val=0\n",
    "for index, row in val_df.iterrows():\n",
    "    total_spend_val+=int(row['payprice'])\n",
    "avg_total_spend_val = total_spend_val/impressionsVal\n",
    "avgCPC_val = avg_total_spend_val/countv\n",
    "avgCPC_val"
   ]
  },
  {
   "cell_type": "code",
   "execution_count": 25,
   "metadata": {
    "collapsed": false
   },
   "outputs": [
    {
     "data": {
      "text/plain": [
       "216496239"
      ]
     },
     "execution_count": 25,
     "metadata": {},
     "output_type": "execute_result"
    }
   ],
   "source": [
    "#total spend for train\n",
    "total_spend=0\n",
    "for index, row in train_df.iterrows():\n",
    "    total_spend+=int(row['payprice'])\n",
    "total_spend"
   ]
  },
  {
   "cell_type": "code",
   "execution_count": 26,
   "metadata": {
    "collapsed": false
   },
   "outputs": [
    {
     "data": {
      "text/plain": [
       "24045218"
      ]
     },
     "execution_count": 26,
     "metadata": {},
     "output_type": "execute_result"
    }
   ],
   "source": [
    "#total spend for validation\n",
    "total_spend_val=0\n",
    "for index, row in val_df.iterrows():\n",
    "    total_spend_val+=int(row['payprice'])\n",
    "total_spend_val"
   ]
  },
  {
   "cell_type": "code",
   "execution_count": 27,
   "metadata": {
    "collapsed": false
   },
   "outputs": [
    {
     "data": {
      "text/plain": [
       "0.0"
      ]
     },
     "execution_count": 27,
     "metadata": {},
     "output_type": "execute_result"
    }
   ],
   "source": [
    "#CR calculation training\n",
    "conversion=0\n",
    "for index, row in train_df.iterrows():\n",
    "    if int(row['logtype'])==3:\n",
    "        conversion+=1\n",
    "CR=conversion/count\n",
    "CR"
   ]
  },
  {
   "cell_type": "code",
   "execution_count": 28,
   "metadata": {
    "collapsed": false
   },
   "outputs": [
    {
     "data": {
      "text/plain": [
       "0.0"
      ]
     },
     "execution_count": 28,
     "metadata": {},
     "output_type": "execute_result"
    }
   ],
   "source": [
    "#CR calculation validation\n",
    "conversion_val=0\n",
    "for index, row in val_df.iterrows():\n",
    "    if int(row['logtype'])==3:\n",
    "        conversion_val+=1\n",
    "CR_val=conversion_val/countv\n",
    "CR_val"
   ]
  },
  {
   "cell_type": "code",
   "execution_count": 29,
   "metadata": {
    "collapsed": false
   },
   "outputs": [
    {
     "data": {
      "text/plain": [
       "0.0007539649884458758"
      ]
     },
     "execution_count": 29,
     "metadata": {},
     "output_type": "execute_result"
    }
   ],
   "source": [
    "#CR calculation training\n",
    "total_won=0\n",
    "total_lost=0\n",
    "for index, row in train_df.iterrows():\n",
    "    if int(row['click'])==1:\n",
    "        total_won+=1\n",
    "    else:\n",
    "        total_lost+=1\n",
    "conversion = count / (total_won + total_lost)\n",
    "conversion"
   ]
  },
  {
   "cell_type": "code",
   "execution_count": 30,
   "metadata": {
    "collapsed": false
   },
   "outputs": [
    {
     "data": {
      "text/plain": [
       "0.0007539641500055046"
      ]
     },
     "execution_count": 30,
     "metadata": {},
     "output_type": "execute_result"
    }
   ],
   "source": [
    "#CR calculation validation\n",
    "total_won_val=0\n",
    "total_lost_val=0\n",
    "for index, row in val_df.iterrows():\n",
    "    if int(row['click'])==1:\n",
    "        total_won_val+=1\n",
    "    else:\n",
    "        total_lost_val+=1\n",
    "conversion_val = countv / (total_won_val + total_lost_val)\n",
    "conversion_val"
   ]
  },
  {
   "cell_type": "code",
   "execution_count": 8,
   "metadata": {
    "collapsed": false
   },
   "outputs": [
    {
     "data": {
      "image/png": "[encoded data removed]",
      "text/plain": [
       "<matplotlib.figure.Figure at 0x1d7037c0fd0>"
      ]
     },
     "metadata": {},
     "output_type": "display_data"
    }
   ],
   "source": [
    "d = dict()\n",
    "for index, row in train_df.iterrows():\n",
    "    key = row['advertiser']\n",
    "    if key in d:\n",
    "        d[key] += 1\n",
    "    else:\n",
    "        d[key] = 1\n",
    "mpl_fig = plt.figure()\n",
    "ax = mpl_fig.add_subplot(111)\n",
    "plt.bar(range(len(d)), d.values(), align='center')\n",
    "plt.xticks(range(len(d)), d.keys())\n",
    "ax.set_ylabel('Number of bids')\n",
    "ax.set_xlabel('Advertiser')\n",
    "ax.set_title('Number of bids per advertiser')\n",
    "plt.show()\n"
   ]
  },
  {
   "cell_type": "code",
   "execution_count": 9,
   "metadata": {
    "collapsed": false
   },
   "outputs": [
    {
     "data": {
      "image/png": "[encoded data removed]",
      "text/plain": [
       "<matplotlib.figure.Figure at 0x1d70393f908>"
      ]
     },
     "metadata": {},
     "output_type": "display_data"
    }
   ],
   "source": [
    "d = dict()\n",
    "for index, row in train_df.iterrows():\n",
    "    key = row['advertiser']\n",
    "    maxBidPrice = int (row['bidprice'])\n",
    "    if (key in d and d[key]<maxBidPrice):\n",
    "        d[key] = maxBidPrice\n",
    "    elif key not in d:\n",
    "        d[key] = maxBidPrice\n",
    "        \n",
    "mpl_fig = plt.figure()\n",
    "ax = mpl_fig.add_subplot(111)\n",
    "plt.bar(range(len(d)), d.values(), align='center')\n",
    "plt.xticks(range(len(d)), d.keys())\n",
    "ax.set_ylabel('Max Bid Price')\n",
    "ax.set_xlabel('Advertiser')\n",
    "ax.set_title('Max Bid Price per advertiser')\n",
    "plt.show()\n",
    "   "
   ]
  },
  {
   "cell_type": "code",
   "execution_count": 10,
   "metadata": {
    "collapsed": true
   },
   "outputs": [],
   "source": [
    "ls = train_df.groupby('advertiser')"
   ]
  },
  {
   "cell_type": "code",
   "execution_count": 11,
   "metadata": {
    "collapsed": false
   },
   "outputs": [
    {
     "name": "stdout",
     "output_type": "stream",
     "text": [
      "advertiser\n",
      "1458    540293\n",
      "2259    146778\n",
      "2261    120619\n",
      "2821    231416\n",
      "2997     54487\n",
      "3358    304782\n",
      "3386    498554\n",
      "3427    454031\n",
      "3476    346778\n",
      "Name: click, dtype: int64\n"
     ]
    }
   ],
   "source": [
    "print(ls['click'].count())"
   ]
  },
  {
   "cell_type": "code",
   "execution_count": 12,
   "metadata": {
    "collapsed": false
   },
   "outputs": [
    {
     "data": {
      "text/plain": [
       "<matplotlib.axes._subplots.AxesSubplot at 0x1d7037c0400>"
      ]
     },
     "execution_count": 12,
     "metadata": {},
     "output_type": "execute_result"
    },
    {
     "data": {
      "image/png": "[encoded data removed]",
      "text/plain": [
       "<matplotlib.figure.Figure at 0x1d7037c0518>"
      ]
     },
     "metadata": {},
     "output_type": "display_data"
    }
   ],
   "source": [
    "ls['click'].count().plot()"
   ]
  },
  {
   "cell_type": "code",
   "execution_count": 13,
   "metadata": {
    "collapsed": false
   },
   "outputs": [
    {
     "data": {
      "text/plain": [
       "<matplotlib.axes._subplots.AxesSubplot at 0x1d75d22a550>"
      ]
     },
     "execution_count": 13,
     "metadata": {},
     "output_type": "execute_result"
    },
    {
     "data": {
      "image/png": "[encoded data removed]",
      "text/plain": [
       "<matplotlib.figure.Figure at 0x1d75d233d68>"
      ]
     },
     "metadata": {},
     "output_type": "display_data"
    }
   ],
   "source": [
    "ls['click'].count().plot(x='advertiser',y='number of clicks',kind='bar')"
   ]
  },
  {
   "cell_type": "code",
   "execution_count": 14,
   "metadata": {
    "collapsed": false
   },
   "outputs": [
    {
     "data": {
      "text/plain": [
       "<matplotlib.axes._subplots.AxesSubplot at 0x1d701594e10>"
      ]
     },
     "execution_count": 14,
     "metadata": {},
     "output_type": "execute_result"
    },
    {
     "data": {
      "image/png": "[encoded data removed]",
      "text/plain": [
       "<matplotlib.figure.Figure at 0x1d75ceffb00>"
      ]
     },
     "metadata": {},
     "output_type": "display_data"
    }
   ],
   "source": [
    "ls = train_df.groupby('useragent')\n",
    "ls['click'].count().plot(x='useragent',y='number of clicks',kind='bar')"
   ]
  },
  {
   "cell_type": "code",
   "execution_count": 15,
   "metadata": {
    "collapsed": false
   },
   "outputs": [
    {
     "data": {
      "text/html": [
       "<div>\n",
       "<table border=\"1\" class=\"dataframe\">\n",
       "  <thead>\n",
       "    <tr style=\"text-align: right;\">\n",
       "      <th>bidprice</th>\n",
       "      <th>227</th>\n",
       "      <th>238</th>\n",
       "      <th>241</th>\n",
       "      <th>249</th>\n",
       "      <th>254</th>\n",
       "      <th>277</th>\n",
       "      <th>294</th>\n",
       "      <th>300</th>\n",
       "    </tr>\n",
       "    <tr>\n",
       "      <th>useragent</th>\n",
       "      <th></th>\n",
       "      <th></th>\n",
       "      <th></th>\n",
       "      <th></th>\n",
       "      <th></th>\n",
       "      <th></th>\n",
       "      <th></th>\n",
       "      <th></th>\n",
       "    </tr>\n",
       "  </thead>\n",
       "  <tbody>\n",
       "    <tr>\n",
       "      <th>android_chrome</th>\n",
       "      <td>162</td>\n",
       "      <td>6</td>\n",
       "      <td>2</td>\n",
       "      <td>0</td>\n",
       "      <td>1</td>\n",
       "      <td>119</td>\n",
       "      <td>101</td>\n",
       "      <td>119</td>\n",
       "    </tr>\n",
       "    <tr>\n",
       "      <th>android_firefox</th>\n",
       "      <td>7</td>\n",
       "      <td>0</td>\n",
       "      <td>0</td>\n",
       "      <td>0</td>\n",
       "      <td>0</td>\n",
       "      <td>0</td>\n",
       "      <td>3</td>\n",
       "      <td>8</td>\n",
       "    </tr>\n",
       "    <tr>\n",
       "      <th>android_ie</th>\n",
       "      <td>3</td>\n",
       "      <td>0</td>\n",
       "      <td>0</td>\n",
       "      <td>0</td>\n",
       "      <td>0</td>\n",
       "      <td>2</td>\n",
       "      <td>0</td>\n",
       "      <td>3</td>\n",
       "    </tr>\n",
       "    <tr>\n",
       "      <th>android_maxthon</th>\n",
       "      <td>8</td>\n",
       "      <td>1</td>\n",
       "      <td>0</td>\n",
       "      <td>0</td>\n",
       "      <td>1</td>\n",
       "      <td>9</td>\n",
       "      <td>6</td>\n",
       "      <td>10</td>\n",
       "    </tr>\n",
       "    <tr>\n",
       "      <th>android_opera</th>\n",
       "      <td>235</td>\n",
       "      <td>8</td>\n",
       "      <td>0</td>\n",
       "      <td>0</td>\n",
       "      <td>3</td>\n",
       "      <td>0</td>\n",
       "      <td>85</td>\n",
       "      <td>173</td>\n",
       "    </tr>\n",
       "    <tr>\n",
       "      <th>android_other</th>\n",
       "      <td>388</td>\n",
       "      <td>9</td>\n",
       "      <td>2</td>\n",
       "      <td>0</td>\n",
       "      <td>10</td>\n",
       "      <td>933</td>\n",
       "      <td>199</td>\n",
       "      <td>415</td>\n",
       "    </tr>\n",
       "    <tr>\n",
       "      <th>android_safari</th>\n",
       "      <td>6125</td>\n",
       "      <td>274</td>\n",
       "      <td>45</td>\n",
       "      <td>0</td>\n",
       "      <td>68</td>\n",
       "      <td>53338</td>\n",
       "      <td>2497</td>\n",
       "      <td>5381</td>\n",
       "    </tr>\n",
       "    <tr>\n",
       "      <th>android_sogou</th>\n",
       "      <td>1</td>\n",
       "      <td>0</td>\n",
       "      <td>0</td>\n",
       "      <td>0</td>\n",
       "      <td>0</td>\n",
       "      <td>7</td>\n",
       "      <td>6</td>\n",
       "      <td>1</td>\n",
       "    </tr>\n",
       "    <tr>\n",
       "      <th>ios_other</th>\n",
       "      <td>5</td>\n",
       "      <td>0</td>\n",
       "      <td>2</td>\n",
       "      <td>0</td>\n",
       "      <td>0</td>\n",
       "      <td>0</td>\n",
       "      <td>19</td>\n",
       "      <td>5</td>\n",
       "    </tr>\n",
       "    <tr>\n",
       "      <th>ios_safari</th>\n",
       "      <td>94</td>\n",
       "      <td>11</td>\n",
       "      <td>40</td>\n",
       "      <td>0</td>\n",
       "      <td>21</td>\n",
       "      <td>0</td>\n",
       "      <td>81</td>\n",
       "      <td>186</td>\n",
       "    </tr>\n",
       "    <tr>\n",
       "      <th>linux_chrome</th>\n",
       "      <td>144</td>\n",
       "      <td>143</td>\n",
       "      <td>55</td>\n",
       "      <td>74</td>\n",
       "      <td>39</td>\n",
       "      <td>74</td>\n",
       "      <td>150</td>\n",
       "      <td>381</td>\n",
       "    </tr>\n",
       "    <tr>\n",
       "      <th>linux_firefox</th>\n",
       "      <td>30</td>\n",
       "      <td>69</td>\n",
       "      <td>17</td>\n",
       "      <td>51</td>\n",
       "      <td>15</td>\n",
       "      <td>42</td>\n",
       "      <td>58</td>\n",
       "      <td>132</td>\n",
       "    </tr>\n",
       "    <tr>\n",
       "      <th>linux_ie</th>\n",
       "      <td>0</td>\n",
       "      <td>0</td>\n",
       "      <td>0</td>\n",
       "      <td>0</td>\n",
       "      <td>0</td>\n",
       "      <td>7</td>\n",
       "      <td>12</td>\n",
       "      <td>0</td>\n",
       "    </tr>\n",
       "    <tr>\n",
       "      <th>linux_opera</th>\n",
       "      <td>4</td>\n",
       "      <td>2</td>\n",
       "      <td>0</td>\n",
       "      <td>2</td>\n",
       "      <td>1</td>\n",
       "      <td>0</td>\n",
       "      <td>4</td>\n",
       "      <td>7</td>\n",
       "    </tr>\n",
       "    <tr>\n",
       "      <th>linux_other</th>\n",
       "      <td>11</td>\n",
       "      <td>2</td>\n",
       "      <td>4</td>\n",
       "      <td>0</td>\n",
       "      <td>0</td>\n",
       "      <td>1</td>\n",
       "      <td>14</td>\n",
       "      <td>32</td>\n",
       "    </tr>\n",
       "    <tr>\n",
       "      <th>linux_safari</th>\n",
       "      <td>31</td>\n",
       "      <td>3</td>\n",
       "      <td>15</td>\n",
       "      <td>0</td>\n",
       "      <td>1</td>\n",
       "      <td>1</td>\n",
       "      <td>29</td>\n",
       "      <td>53</td>\n",
       "    </tr>\n",
       "    <tr>\n",
       "      <th>mac_chrome</th>\n",
       "      <td>298</td>\n",
       "      <td>276</td>\n",
       "      <td>61</td>\n",
       "      <td>146</td>\n",
       "      <td>70</td>\n",
       "      <td>164</td>\n",
       "      <td>558</td>\n",
       "      <td>546</td>\n",
       "    </tr>\n",
       "    <tr>\n",
       "      <th>mac_firefox</th>\n",
       "      <td>114</td>\n",
       "      <td>98</td>\n",
       "      <td>29</td>\n",
       "      <td>56</td>\n",
       "      <td>23</td>\n",
       "      <td>78</td>\n",
       "      <td>247</td>\n",
       "      <td>199</td>\n",
       "    </tr>\n",
       "    <tr>\n",
       "      <th>mac_ie</th>\n",
       "      <td>0</td>\n",
       "      <td>0</td>\n",
       "      <td>0</td>\n",
       "      <td>0</td>\n",
       "      <td>0</td>\n",
       "      <td>0</td>\n",
       "      <td>1</td>\n",
       "      <td>0</td>\n",
       "    </tr>\n",
       "    <tr>\n",
       "      <th>mac_maxthon</th>\n",
       "      <td>4</td>\n",
       "      <td>8</td>\n",
       "      <td>2</td>\n",
       "      <td>0</td>\n",
       "      <td>3</td>\n",
       "      <td>2</td>\n",
       "      <td>4</td>\n",
       "      <td>12</td>\n",
       "    </tr>\n",
       "    <tr>\n",
       "      <th>mac_opera</th>\n",
       "      <td>3</td>\n",
       "      <td>1</td>\n",
       "      <td>2</td>\n",
       "      <td>3</td>\n",
       "      <td>0</td>\n",
       "      <td>0</td>\n",
       "      <td>3</td>\n",
       "      <td>6</td>\n",
       "    </tr>\n",
       "    <tr>\n",
       "      <th>mac_other</th>\n",
       "      <td>3684</td>\n",
       "      <td>18</td>\n",
       "      <td>375</td>\n",
       "      <td>0</td>\n",
       "      <td>124</td>\n",
       "      <td>1</td>\n",
       "      <td>1384</td>\n",
       "      <td>3114</td>\n",
       "    </tr>\n",
       "    <tr>\n",
       "      <th>mac_safari</th>\n",
       "      <td>10449</td>\n",
       "      <td>871</td>\n",
       "      <td>3433</td>\n",
       "      <td>94</td>\n",
       "      <td>1503</td>\n",
       "      <td>584</td>\n",
       "      <td>7941</td>\n",
       "      <td>16534</td>\n",
       "    </tr>\n",
       "    <tr>\n",
       "      <th>mac_sogou</th>\n",
       "      <td>11</td>\n",
       "      <td>0</td>\n",
       "      <td>0</td>\n",
       "      <td>0</td>\n",
       "      <td>0</td>\n",
       "      <td>0</td>\n",
       "      <td>1</td>\n",
       "      <td>2</td>\n",
       "    </tr>\n",
       "    <tr>\n",
       "      <th>other_chrome</th>\n",
       "      <td>0</td>\n",
       "      <td>0</td>\n",
       "      <td>0</td>\n",
       "      <td>1</td>\n",
       "      <td>0</td>\n",
       "      <td>1</td>\n",
       "      <td>3</td>\n",
       "      <td>8</td>\n",
       "    </tr>\n",
       "    <tr>\n",
       "      <th>other_firefox</th>\n",
       "      <td>0</td>\n",
       "      <td>0</td>\n",
       "      <td>0</td>\n",
       "      <td>0</td>\n",
       "      <td>0</td>\n",
       "      <td>0</td>\n",
       "      <td>0</td>\n",
       "      <td>1</td>\n",
       "    </tr>\n",
       "    <tr>\n",
       "      <th>other_ie</th>\n",
       "      <td>2</td>\n",
       "      <td>1</td>\n",
       "      <td>2</td>\n",
       "      <td>1</td>\n",
       "      <td>1</td>\n",
       "      <td>1</td>\n",
       "      <td>9</td>\n",
       "      <td>11</td>\n",
       "    </tr>\n",
       "    <tr>\n",
       "      <th>other_opera</th>\n",
       "      <td>48</td>\n",
       "      <td>3</td>\n",
       "      <td>5</td>\n",
       "      <td>0</td>\n",
       "      <td>2</td>\n",
       "      <td>0</td>\n",
       "      <td>17</td>\n",
       "      <td>51</td>\n",
       "    </tr>\n",
       "    <tr>\n",
       "      <th>other_other</th>\n",
       "      <td>261</td>\n",
       "      <td>102</td>\n",
       "      <td>27</td>\n",
       "      <td>4</td>\n",
       "      <td>11</td>\n",
       "      <td>274</td>\n",
       "      <td>133</td>\n",
       "      <td>976</td>\n",
       "    </tr>\n",
       "    <tr>\n",
       "      <th>other_safari</th>\n",
       "      <td>9</td>\n",
       "      <td>0</td>\n",
       "      <td>6</td>\n",
       "      <td>0</td>\n",
       "      <td>5</td>\n",
       "      <td>1</td>\n",
       "      <td>16</td>\n",
       "      <td>26</td>\n",
       "    </tr>\n",
       "    <tr>\n",
       "      <th>windows_chrome</th>\n",
       "      <td>85040</td>\n",
       "      <td>109531</td>\n",
       "      <td>85191</td>\n",
       "      <td>45953</td>\n",
       "      <td>50238</td>\n",
       "      <td>58899</td>\n",
       "      <td>128949</td>\n",
       "      <td>321417</td>\n",
       "    </tr>\n",
       "    <tr>\n",
       "      <th>windows_firefox</th>\n",
       "      <td>3685</td>\n",
       "      <td>3412</td>\n",
       "      <td>1396</td>\n",
       "      <td>2061</td>\n",
       "      <td>1164</td>\n",
       "      <td>1451</td>\n",
       "      <td>3673</td>\n",
       "      <td>7929</td>\n",
       "    </tr>\n",
       "    <tr>\n",
       "      <th>windows_ie</th>\n",
       "      <td>166601</td>\n",
       "      <td>230261</td>\n",
       "      <td>132069</td>\n",
       "      <td>66680</td>\n",
       "      <td>75593</td>\n",
       "      <td>82009</td>\n",
       "      <td>200866</td>\n",
       "      <td>665555</td>\n",
       "    </tr>\n",
       "    <tr>\n",
       "      <th>windows_maxthon</th>\n",
       "      <td>766</td>\n",
       "      <td>1211</td>\n",
       "      <td>389</td>\n",
       "      <td>490</td>\n",
       "      <td>373</td>\n",
       "      <td>440</td>\n",
       "      <td>1382</td>\n",
       "      <td>3025</td>\n",
       "    </tr>\n",
       "    <tr>\n",
       "      <th>windows_opera</th>\n",
       "      <td>230</td>\n",
       "      <td>441</td>\n",
       "      <td>127</td>\n",
       "      <td>281</td>\n",
       "      <td>110</td>\n",
       "      <td>81</td>\n",
       "      <td>267</td>\n",
       "      <td>897</td>\n",
       "    </tr>\n",
       "    <tr>\n",
       "      <th>windows_other</th>\n",
       "      <td>1335</td>\n",
       "      <td>1504</td>\n",
       "      <td>1046</td>\n",
       "      <td>379</td>\n",
       "      <td>537</td>\n",
       "      <td>866</td>\n",
       "      <td>1899</td>\n",
       "      <td>4895</td>\n",
       "    </tr>\n",
       "    <tr>\n",
       "      <th>windows_safari</th>\n",
       "      <td>41</td>\n",
       "      <td>25</td>\n",
       "      <td>15</td>\n",
       "      <td>3</td>\n",
       "      <td>82</td>\n",
       "      <td>24</td>\n",
       "      <td>871</td>\n",
       "      <td>667</td>\n",
       "    </tr>\n",
       "    <tr>\n",
       "      <th>windows_sogou</th>\n",
       "      <td>0</td>\n",
       "      <td>2</td>\n",
       "      <td>0</td>\n",
       "      <td>0</td>\n",
       "      <td>0</td>\n",
       "      <td>0</td>\n",
       "      <td>0</td>\n",
       "      <td>2</td>\n",
       "    </tr>\n",
       "    <tr>\n",
       "      <th>windows_theworld</th>\n",
       "      <td>1273</td>\n",
       "      <td>2421</td>\n",
       "      <td>1272</td>\n",
       "      <td>974</td>\n",
       "      <td>894</td>\n",
       "      <td>768</td>\n",
       "      <td>1635</td>\n",
       "      <td>6068</td>\n",
       "    </tr>\n",
       "  </tbody>\n",
       "</table>\n",
       "</div>"
      ],
      "text/plain": [
       "bidprice             227     238     241    249    254    277     294     300\n",
       "useragent                                                                    \n",
       "android_chrome       162       6       2      0      1    119     101     119\n",
       "android_firefox        7       0       0      0      0      0       3       8\n",
       "android_ie             3       0       0      0      0      2       0       3\n",
       "android_maxthon        8       1       0      0      1      9       6      10\n",
       "android_opera        235       8       0      0      3      0      85     173\n",
       "android_other        388       9       2      0     10    933     199     415\n",
       "android_safari      6125     274      45      0     68  53338    2497    5381\n",
       "android_sogou          1       0       0      0      0      7       6       1\n",
       "ios_other              5       0       2      0      0      0      19       5\n",
       "ios_safari            94      11      40      0     21      0      81     186\n",
       "linux_chrome         144     143      55     74     39     74     150     381\n",
       "linux_firefox         30      69      17     51     15     42      58     132\n",
       "linux_ie               0       0       0      0      0      7      12       0\n",
       "linux_opera            4       2       0      2      1      0       4       7\n",
       "linux_other           11       2       4      0      0      1      14      32\n",
       "linux_safari          31       3      15      0      1      1      29      53\n",
       "mac_chrome           298     276      61    146     70    164     558     546\n",
       "mac_firefox          114      98      29     56     23     78     247     199\n",
       "mac_ie                 0       0       0      0      0      0       1       0\n",
       "mac_maxthon            4       8       2      0      3      2       4      12\n",
       "mac_opera              3       1       2      3      0      0       3       6\n",
       "mac_other           3684      18     375      0    124      1    1384    3114\n",
       "mac_safari         10449     871    3433     94   1503    584    7941   16534\n",
       "mac_sogou             11       0       0      0      0      0       1       2\n",
       "other_chrome           0       0       0      1      0      1       3       8\n",
       "other_firefox          0       0       0      0      0      0       0       1\n",
       "other_ie               2       1       2      1      1      1       9      11\n",
       "other_opera           48       3       5      0      2      0      17      51\n",
       "other_other          261     102      27      4     11    274     133     976\n",
       "other_safari           9       0       6      0      5      1      16      26\n",
       "windows_chrome     85040  109531   85191  45953  50238  58899  128949  321417\n",
       "windows_firefox     3685    3412    1396   2061   1164   1451    3673    7929\n",
       "windows_ie        166601  230261  132069  66680  75593  82009  200866  665555\n",
       "windows_maxthon      766    1211     389    490    373    440    1382    3025\n",
       "windows_opera        230     441     127    281    110     81     267     897\n",
       "windows_other       1335    1504    1046    379    537    866    1899    4895\n",
       "windows_safari        41      25      15      3     82     24     871     667\n",
       "windows_sogou          0       2       0      0      0      0       0       2\n",
       "windows_theworld    1273    2421    1272    974    894    768    1635    6068"
      ]
     },
     "execution_count": 15,
     "metadata": {},
     "output_type": "execute_result"
    }
   ],
   "source": [
    "crossbar = pd.crosstab(train_df['useragent'], train_df['bidprice'])\n",
    "crossbar"
   ]
  },
  {
   "cell_type": "code",
   "execution_count": 16,
   "metadata": {
    "collapsed": false
   },
   "outputs": [
    {
     "data": {
      "text/plain": [
       "{'227': 0,\n",
       " '238': 1,\n",
       " '241': 2,\n",
       " '249': 3,\n",
       " '254': 4,\n",
       " '277': 5,\n",
       " '294': 6,\n",
       " '300': 7}"
      ]
     },
     "execution_count": 16,
     "metadata": {},
     "output_type": "execute_result"
    }
   ],
   "source": [
    "# Get the unique values of Bid Price\n",
    "price_locs = sorted(train_df['bidprice'].unique())\n",
    "\n",
    "price_locs_mapping = dict(zip(price_locs, \n",
    "                                 range(0, len(price_locs) + 1)))\n",
    "price_locs_mapping"
   ]
  },
  {
   "cell_type": "code",
   "execution_count": 17,
   "metadata": {
    "collapsed": false
   },
   "outputs": [
    {
     "data": {
      "text/html": [
       "<div>\n",
       "<table border=\"1\" class=\"dataframe\">\n",
       "  <thead>\n",
       "    <tr style=\"text-align: right;\">\n",
       "      <th></th>\n",
       "      <th>click</th>\n",
       "      <th>weekday</th>\n",
       "      <th>hour</th>\n",
       "      <th>bidid</th>\n",
       "      <th>logtype</th>\n",
       "      <th>userid</th>\n",
       "      <th>useragent</th>\n",
       "      <th>IP</th>\n",
       "      <th>region</th>\n",
       "      <th>city</th>\n",
       "      <th>...</th>\n",
       "      <th>slotvisibility</th>\n",
       "      <th>slotformat</th>\n",
       "      <th>slotprice</th>\n",
       "      <th>creative</th>\n",
       "      <th>bidprice</th>\n",
       "      <th>payprice</th>\n",
       "      <th>keypage</th>\n",
       "      <th>advertiser</th>\n",
       "      <th>usertag</th>\n",
       "      <th>bidpricenum</th>\n",
       "    </tr>\n",
       "  </thead>\n",
       "  <tbody>\n",
       "    <tr>\n",
       "      <th>0</th>\n",
       "      <td>0</td>\n",
       "      <td>1</td>\n",
       "      <td>14</td>\n",
       "      <td>fdfae6789b787899f1b875de3ab8b21a</td>\n",
       "      <td>1</td>\n",
       "      <td>u_Vh1OPkFv3q5CFdR</td>\n",
       "      <td>windows_ie</td>\n",
       "      <td>180.107.112.*</td>\n",
       "      <td>80</td>\n",
       "      <td>85</td>\n",
       "      <td>...</td>\n",
       "      <td>1</td>\n",
       "      <td>0</td>\n",
       "      <td>5</td>\n",
       "      <td>612599432d200b093719dd1f372f7a30</td>\n",
       "      <td>300</td>\n",
       "      <td>54</td>\n",
       "      <td>bebefa5efe83beee17a3d245e7c5085b</td>\n",
       "      <td>1458</td>\n",
       "      <td>13866,10063</td>\n",
       "      <td>7</td>\n",
       "    </tr>\n",
       "    <tr>\n",
       "      <th>1</th>\n",
       "      <td>0</td>\n",
       "      <td>2</td>\n",
       "      <td>20</td>\n",
       "      <td>372883147cdefbc495fb5082f79dde9b</td>\n",
       "      <td>1</td>\n",
       "      <td>u_VhkRL6dCOTLsq-c</td>\n",
       "      <td>windows_chrome</td>\n",
       "      <td>125.120.199.*</td>\n",
       "      <td>94</td>\n",
       "      <td>95</td>\n",
       "      <td>...</td>\n",
       "      <td>1</td>\n",
       "      <td>0</td>\n",
       "      <td>5</td>\n",
       "      <td>8dff45ed862a740986dbe688aafee7e5</td>\n",
       "      <td>249</td>\n",
       "      <td>42</td>\n",
       "      <td>15b749127478946f161a54dc0dad27c8</td>\n",
       "      <td>3476</td>\n",
       "      <td>10063,10111</td>\n",
       "      <td>3</td>\n",
       "    </tr>\n",
       "    <tr>\n",
       "      <th>2</th>\n",
       "      <td>0</td>\n",
       "      <td>5</td>\n",
       "      <td>9</td>\n",
       "      <td>2912cb5947e1fad450e2473c2f61ef75</td>\n",
       "      <td>1</td>\n",
       "      <td>u_VhkyORMrD8TP3GL</td>\n",
       "      <td>windows_ie</td>\n",
       "      <td>120.196.64.*</td>\n",
       "      <td>216</td>\n",
       "      <td>217</td>\n",
       "      <td>...</td>\n",
       "      <td>0</td>\n",
       "      <td>1</td>\n",
       "      <td>0</td>\n",
       "      <td>77819d3e0b3467fe5c7b16d68ad923a1</td>\n",
       "      <td>300</td>\n",
       "      <td>76</td>\n",
       "      <td>bebefa5efe83beee17a3d245e7c5085b</td>\n",
       "      <td>1458</td>\n",
       "      <td>10063</td>\n",
       "      <td>7</td>\n",
       "    </tr>\n",
       "    <tr>\n",
       "      <th>3</th>\n",
       "      <td>0</td>\n",
       "      <td>2</td>\n",
       "      <td>20</td>\n",
       "      <td>d7b7d61d1e50e1d27d210928d28a9b61</td>\n",
       "      <td>1</td>\n",
       "      <td>u_VhkyLRqVL2a4eWL</td>\n",
       "      <td>windows_ie</td>\n",
       "      <td>219.131.122.*</td>\n",
       "      <td>216</td>\n",
       "      <td>221</td>\n",
       "      <td>...</td>\n",
       "      <td>0</td>\n",
       "      <td>0</td>\n",
       "      <td>162</td>\n",
       "      <td>7184c9560e68e977187e67e45a4f3198</td>\n",
       "      <td>238</td>\n",
       "      <td>182</td>\n",
       "      <td>0f951a030abdaedd733ee8d114ce2944</td>\n",
       "      <td>3427</td>\n",
       "      <td>10077,10111</td>\n",
       "      <td>1</td>\n",
       "    </tr>\n",
       "    <tr>\n",
       "      <th>4</th>\n",
       "      <td>0</td>\n",
       "      <td>6</td>\n",
       "      <td>9</td>\n",
       "      <td>657d317dc4045bb79c2652abbea07530</td>\n",
       "      <td>1</td>\n",
       "      <td>u_Vh1zOJuQOtTCBgL</td>\n",
       "      <td>windows_chrome</td>\n",
       "      <td>123.190.78.*</td>\n",
       "      <td>40</td>\n",
       "      <td>48</td>\n",
       "      <td>...</td>\n",
       "      <td>0</td>\n",
       "      <td>1</td>\n",
       "      <td>0</td>\n",
       "      <td>c938195f9e404b4f38c7e71bf50263e5</td>\n",
       "      <td>238</td>\n",
       "      <td>34</td>\n",
       "      <td>a3becb967c015e9acb5e72f22b100ef8</td>\n",
       "      <td>3476</td>\n",
       "      <td>10031,13042,10006,10057,13866,10063,14273,1005...</td>\n",
       "      <td>1</td>\n",
       "    </tr>\n",
       "  </tbody>\n",
       "</table>\n",
       "<p>5 rows × 27 columns</p>\n",
       "</div>"
      ],
      "text/plain": [
       "  click weekday hour                             bidid logtype  \\\n",
       "0     0       1   14  fdfae6789b787899f1b875de3ab8b21a       1   \n",
       "1     0       2   20  372883147cdefbc495fb5082f79dde9b       1   \n",
       "2     0       5    9  2912cb5947e1fad450e2473c2f61ef75       1   \n",
       "3     0       2   20  d7b7d61d1e50e1d27d210928d28a9b61       1   \n",
       "4     0       6    9  657d317dc4045bb79c2652abbea07530       1   \n",
       "\n",
       "              userid       useragent             IP region city     ...      \\\n",
       "0  u_Vh1OPkFv3q5CFdR      windows_ie  180.107.112.*     80   85     ...       \n",
       "1  u_VhkRL6dCOTLsq-c  windows_chrome  125.120.199.*     94   95     ...       \n",
       "2  u_VhkyORMrD8TP3GL      windows_ie   120.196.64.*    216  217     ...       \n",
       "3  u_VhkyLRqVL2a4eWL      windows_ie  219.131.122.*    216  221     ...       \n",
       "4  u_Vh1zOJuQOtTCBgL  windows_chrome   123.190.78.*     40   48     ...       \n",
       "\n",
       "  slotvisibility slotformat slotprice                          creative  \\\n",
       "0              1          0         5  612599432d200b093719dd1f372f7a30   \n",
       "1              1          0         5  8dff45ed862a740986dbe688aafee7e5   \n",
       "2              0          1         0  77819d3e0b3467fe5c7b16d68ad923a1   \n",
       "3              0          0       162  7184c9560e68e977187e67e45a4f3198   \n",
       "4              0          1         0  c938195f9e404b4f38c7e71bf50263e5   \n",
       "\n",
       "  bidprice payprice                           keypage advertiser  \\\n",
       "0      300       54  bebefa5efe83beee17a3d245e7c5085b       1458   \n",
       "1      249       42  15b749127478946f161a54dc0dad27c8       3476   \n",
       "2      300       76  bebefa5efe83beee17a3d245e7c5085b       1458   \n",
       "3      238      182  0f951a030abdaedd733ee8d114ce2944       3427   \n",
       "4      238       34  a3becb967c015e9acb5e72f22b100ef8       3476   \n",
       "\n",
       "                                             usertag bidpricenum  \n",
       "0                                        13866,10063           7  \n",
       "1                                        10063,10111           3  \n",
       "2                                              10063           7  \n",
       "3                                        10077,10111           1  \n",
       "4  10031,13042,10006,10057,13866,10063,14273,1005...           1  \n",
       "\n",
       "[5 rows x 27 columns]"
      ]
     },
     "execution_count": 17,
     "metadata": {},
     "output_type": "execute_result"
    }
   ],
   "source": [
    "train_df['bidpricenum'] = train_df['bidprice'] \\\n",
    "                               .map(price_locs_mapping) \\\n",
    "                               .astype(int)\n",
    "train_df.head()"
   ]
  },
  {
   "cell_type": "code",
   "execution_count": null,
   "metadata": {
    "collapsed": true
   },
   "outputs": [],
   "source": []
  }
 ],
 "metadata": {
  "kernelspec": {
   "display_name": "Python 3",
   "language": "python",
   "name": "python3"
  },
  "language_info": {
   "codemirror_mode": {
    "name": "ipython",
    "version": 3
   },
   "file_extension": ".py",
   "mimetype": "text/x-python",
   "name": "python",
   "nbconvert_exporter": "python",
   "pygments_lexer": "ipython3",
   "version": "3.5.2"
  }
 },
 "nbformat": 4,
 "nbformat_minor": 1
}
